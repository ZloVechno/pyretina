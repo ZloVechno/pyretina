{
 "cells": [
  {
   "cell_type": "code",
   "execution_count": 21,
   "metadata": {
    "collapsed": true
   },
   "outputs": [],
   "source": [
    "import numpy as np\n",
    "import pandas as pd\n",
    "from sklearn.linear_model import LinearRegression\n",
    "\n",
    "import scipy.optimize as opt\n",
    "\n",
    "import matplotlib.pyplot as plt\n",
    "\n",
    "%matplotlib inline"
   ]
  },
  {
   "cell_type": "code",
   "execution_count": 4,
   "metadata": {
    "collapsed": true
   },
   "outputs": [],
   "source": [
    "DATA_PATH = \"./data/MC/\""
   ]
  },
  {
   "cell_type": "code",
   "execution_count": 11,
   "metadata": {
    "collapsed": true
   },
   "outputs": [],
   "source": [
    "def scan_dir(path):\n",
    "    import os\n",
    "    import re\n",
    "    \n",
    "    r = re.compile(r\"\\d+[_]\\d+\")\n",
    "    \n",
    "    events = list()\n",
    "    \n",
    "    for item in os.listdir(path):\n",
    "        try:\n",
    "            event_name = r.findall(item)[0]\n",
    "            events.append(event_name)\n",
    "        except:\n",
    "            pass\n",
    "    \n",
    "    return list(set(events))"
   ]
  },
  {
   "cell_type": "code",
   "execution_count": 12,
   "metadata": {
    "collapsed": true
   },
   "outputs": [],
   "source": [
    "event_names = scan_dir(DATA_PATH)"
   ]
  },
  {
   "cell_type": "code",
   "execution_count": 13,
   "metadata": {
    "collapsed": true
   },
   "outputs": [],
   "source": [
    "def load_event(item, data_path = DATA_PATH):\n",
    "    hits = pd.DataFrame.from_csv(\"%s/%s.hits.csv\" % (data_path, item))[['X', 'Y', 'Z']].values\n",
    "    tracks = pd.DataFrame.from_csv(\"%s/%s.tracks.csv\" % (data_path, item))\n",
    "    \n",
    "    tx = tracks[[ 'x%d' % i for i in range(11) ]].values\n",
    "    ty = tracks[[ 'y%d' % i for i in range(11) ]].values\n",
    "    tz = tracks[[ 'z%d' % i for i in range(11) ]].values\n",
    "    \n",
    "    pid = tracks['name'].values\n",
    "    \n",
    "    return hits, (tx, ty, tz, pid)"
   ]
  },
  {
   "cell_type": "code",
   "execution_count": 14,
   "metadata": {
    "collapsed": true
   },
   "outputs": [],
   "source": [
    "def load_events(data_path = DATA_PATH):\n",
    "    events = list()\n",
    "    \n",
    "    for item in scan_dir(data_path):\n",
    "        try:\n",
    "            events.append(load_event(item, data_path))\n",
    "        except:\n",
    "            pass\n",
    "\n",
    "    return events"
   ]
  },
  {
   "cell_type": "code",
   "execution_count": 15,
   "metadata": {
    "collapsed": true
   },
   "outputs": [],
   "source": [
    "events = load_events()"
   ]
  },
  {
   "cell_type": "code",
   "execution_count": 16,
   "metadata": {
    "collapsed": false
   },
   "outputs": [
    {
     "data": {
      "text/plain": [
       "2573"
      ]
     },
     "execution_count": 16,
     "metadata": {},
     "output_type": "execute_result"
    }
   ],
   "source": [
    "len(events)"
   ]
  },
  {
   "cell_type": "code",
   "execution_count": 18,
   "metadata": {
    "collapsed": false
   },
   "outputs": [],
   "source": [
    "zs = np.hstack([ hits[:, 2] for hits, _ in events ])"
   ]
  },
  {
   "cell_type": "code",
   "execution_count": 20,
   "metadata": {
    "collapsed": false
   },
   "outputs": [
    {
     "name": "stdout",
     "output_type": "stream",
     "text": [
      "2648.4\n"
     ]
    }
   ],
   "source": [
    "before_cut = np.max(zs[zs < 5000]) + 0.1\n",
    "print before_cut"
   ]
  },
  {
   "cell_type": "code",
   "execution_count": 36,
   "metadata": {
    "collapsed": true
   },
   "outputs": [],
   "source": [
    "def cut(events):\n",
    "    from sklearn.linear_model import LinearRegression\n",
    "    \n",
    "    lr = LinearRegression(fit_intercept=False)\n",
    "    \n",
    "    for hits, (tx, ty, tz, pid) in events:\n",
    "        hits_ = hits[hits[:, 2] < before_cut, :]\n",
    "        \n",
    "        params = np.zeros((tx.shape[0], 2))\n",
    "        \n",
    "        for t in xrange(tx.shape[0]):\n",
    "            cut = tz[t, :] < before_cut\n",
    "            \n",
    "            tx_ = tx[t, :][cut]\n",
    "            ty_ = ty[t, :][cut]\n",
    "            tz_ = tz[t, :][cut].reshape(-1, 1)\n",
    "        \n",
    "            assert tz_.shape[0] > 1\n",
    "        \n",
    "            lr.fit(tz_, tx_)\n",
    "            cx = lr.coef_\n",
    "            \n",
    "            print tz_, tx_\n",
    "            \n",
    "            assert lr.score(tz_, tx_) >= 0.98, \"Low score %f\" % lr.score(tz_, tx_)\n",
    "        \n",
    "            lr.fit(tz_, ty_)\n",
    "            cy = lr.coef_\n",
    "        \n",
    "            assert lr.score(tz_, ty_) >= 0.98\n",
    "        \n",
    "            params[t, :] = cx, cy\n",
    "\n",
    "        yield hits_, params"
   ]
  },
  {
   "cell_type": "code",
   "execution_count": 37,
   "metadata": {
    "collapsed": false
   },
   "outputs": [
    {
     "name": "stdout",
     "output_type": "stream",
     "text": [
      "[[  -11.9815]\n",
      " [ 1389.22  ]] [  0.74088  51.255  ]\n",
      "[[  -11.9815]\n",
      " [ 1389.22  ]] [  0.281882  62.9832  ]\n",
      "[[  -11.9815]\n",
      " [ 1889.22  ]] [  0.520724  91.3356  ]\n",
      "[[  -11.9815]\n",
      " [ 1389.22  ]] [  0.446999  78.8592  ]\n",
      "[[  -11.9815]\n",
      " [ 1389.22  ]] [  0.430757  60.7484  ]\n",
      "[[  -11.9815]\n",
      " [ 1389.22  ]] [  0.472913  75.8367  ]\n",
      "[[  -11.9815]\n",
      " [ 1389.22  ]] [  0.357196 -23.2837  ]\n",
      "[[  -11.9815]\n",
      " [ 1389.22  ]] [  0.338909 -12.8681  ]\n",
      "[[  -11.9815]\n",
      " [ 1389.22  ]] [  0.41269  89.752  ]\n",
      "[[   19.9478]\n",
      " [ 1417.95  ]] [   0.358979 -104.137   ]\n",
      "[[  -11.9815]\n",
      " [ 1389.22  ]] [   0.359045  182.111   ]\n",
      "[[  -11.9815]\n",
      " [ 1389.22  ]] [   0.530419  141.006   ]\n",
      "[[  -11.9815]\n",
      " [ 1389.22  ]] [  0.315245  45.5474  ]\n",
      "[[  -11.9815]\n",
      " [ 1389.22  ]] [  0.579144 -17.4054  ]\n",
      "[[   19.9478]\n",
      " [ 1417.95  ]] [   0.406143 -109.05    ]\n",
      "[[  -11.9815]\n",
      " [ 1389.22  ]] [  0.500624 -36.094   ]\n",
      "[[  -11.9815]\n",
      " [ 1389.22  ]] [  0.456859  43.2812  ]\n",
      "[[  -11.9815]\n",
      " [ 1889.22  ]] [   0.186224  169.645   ]\n",
      "[[   19.9478]\n",
      " [ 1417.95  ]] [  0.239901 -28.5238  ]\n",
      "[[  -11.9815]\n",
      " [ 1389.22  ]] [  0.308187 -15.9393  ]\n",
      "[[  -11.9815]\n",
      " [ 1389.22  ]] [  0.461332  36.925   ]\n",
      "[[  -11.9815]\n",
      " [ 1389.22  ]] [  0.706924  12.3712  ]\n",
      "[[  -11.9815]\n",
      " [ 1389.22  ]] [   0.447681  203.714   ]\n",
      "[[   19.9478]\n",
      " [ 1417.95  ]] [  0.966518  66.4455  ]\n",
      "[[  -11.9815]\n",
      " [ 1389.22  ]] [  0.512203 -75.0744  ]\n",
      "[[  -11.9815]\n",
      " [ 1389.22  ]] [  0.486924  90.5923  ]\n",
      "[[  -11.9815]\n",
      " [ 1389.22  ]] [   0.446557  130.207   ]\n",
      "[[  -11.9815]\n",
      " [ 1389.22  ]] [  0.277544  99.4238  ]\n",
      "[[  -11.9815]\n",
      " [ 1389.22  ]] [  0.551558 -14.9763  ]\n",
      "[[  -11.9815]\n",
      " [ 1389.22  ]] [  0.420707  31.431   ]\n",
      "[[  -11.9815]\n",
      " [ 1389.22  ]] [  0.411643  31.0901  ]\n",
      "[[  -11.9815]\n",
      " [ 1389.22  ]] [  0.260105 -17.9162  ]\n",
      "[[   0]\n",
      " [1400]] [-29.636  -88.7591]\n"
     ]
    },
    {
     "ename": "AssertionError",
     "evalue": "Low score 0.497478",
     "output_type": "error",
     "traceback": [
      "\u001b[1;31m---------------------------------------------------------------------------\u001b[0m",
      "\u001b[1;31mAssertionError\u001b[0m                            Traceback (most recent call last)",
      "\u001b[1;32m<ipython-input-37-21378c3f650c>\u001b[0m in \u001b[0;36m<module>\u001b[1;34m()\u001b[0m\n\u001b[1;32m----> 1\u001b[1;33m \u001b[0mcutted\u001b[0m \u001b[1;33m=\u001b[0m \u001b[0mlist\u001b[0m\u001b[1;33m(\u001b[0m\u001b[0mcut\u001b[0m\u001b[1;33m(\u001b[0m\u001b[0mevents\u001b[0m\u001b[1;33m)\u001b[0m\u001b[1;33m)\u001b[0m\u001b[1;33m\u001b[0m\u001b[0m\n\u001b[0m",
      "\u001b[1;32m<ipython-input-36-36aa4b93d6f5>\u001b[0m in \u001b[0;36mcut\u001b[1;34m(events)\u001b[0m\n\u001b[0;32m     23\u001b[0m             \u001b[1;32mprint\u001b[0m \u001b[0mtz_\u001b[0m\u001b[1;33m,\u001b[0m \u001b[0mtx_\u001b[0m\u001b[1;33m\u001b[0m\u001b[0m\n\u001b[0;32m     24\u001b[0m \u001b[1;33m\u001b[0m\u001b[0m\n\u001b[1;32m---> 25\u001b[1;33m             \u001b[1;32massert\u001b[0m \u001b[0mlr\u001b[0m\u001b[1;33m.\u001b[0m\u001b[0mscore\u001b[0m\u001b[1;33m(\u001b[0m\u001b[0mtz_\u001b[0m\u001b[1;33m,\u001b[0m \u001b[0mtx_\u001b[0m\u001b[1;33m)\u001b[0m \u001b[1;33m>=\u001b[0m \u001b[1;36m0.98\u001b[0m\u001b[1;33m,\u001b[0m \u001b[1;34m\"Low score %f\"\u001b[0m \u001b[1;33m%\u001b[0m \u001b[0mlr\u001b[0m\u001b[1;33m.\u001b[0m\u001b[0mscore\u001b[0m\u001b[1;33m(\u001b[0m\u001b[0mtz_\u001b[0m\u001b[1;33m,\u001b[0m \u001b[0mtx_\u001b[0m\u001b[1;33m)\u001b[0m\u001b[1;33m\u001b[0m\u001b[0m\n\u001b[0m\u001b[0;32m     26\u001b[0m \u001b[1;33m\u001b[0m\u001b[0m\n\u001b[0;32m     27\u001b[0m             \u001b[0mlr\u001b[0m\u001b[1;33m.\u001b[0m\u001b[0mfit\u001b[0m\u001b[1;33m(\u001b[0m\u001b[0mtz_\u001b[0m\u001b[1;33m,\u001b[0m \u001b[0mty_\u001b[0m\u001b[1;33m)\u001b[0m\u001b[1;33m\u001b[0m\u001b[0m\n",
      "\u001b[1;31mAssertionError\u001b[0m: Low score 0.497478"
     ]
    }
   ],
   "source": [
    "cutted = list(cut(events))"
   ]
  },
  {
   "cell_type": "code",
   "execution_count": null,
   "metadata": {
    "collapsed": true
   },
   "outputs": [],
   "source": []
  }
 ],
 "metadata": {
  "kernelspec": {
   "display_name": "Python 2",
   "language": "python",
   "name": "python2"
  },
  "language_info": {
   "codemirror_mode": {
    "name": "ipython",
    "version": 2
   },
   "file_extension": ".py",
   "mimetype": "text/x-python",
   "name": "python",
   "nbconvert_exporter": "python",
   "pygments_lexer": "ipython2",
   "version": "2.7.11"
  }
 },
 "nbformat": 4,
 "nbformat_minor": 0
}
